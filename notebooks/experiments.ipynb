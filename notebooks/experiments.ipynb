{
 "cells": [
  {
   "cell_type": "code",
   "execution_count": 9,
   "metadata": {},
   "outputs": [],
   "source": [
    "from difflib import SequenceMatcher\n",
    "from fuzzywuzzy import fuzz\n",
    "import distance"
   ]
  },
  {
   "cell_type": "code",
   "execution_count": 144,
   "metadata": {},
   "outputs": [
    {
     "data": {
      "text/plain": [
       "57"
      ]
     },
     "execution_count": 144,
     "metadata": {},
     "output_type": "execute_result"
    },
    {
     "data": {
      "text/plain": [
       "44"
      ]
     },
     "execution_count": 144,
     "metadata": {},
     "output_type": "execute_result"
    },
    {
     "data": {
      "text/plain": [
       "10"
      ]
     },
     "execution_count": 144,
     "metadata": {},
     "output_type": "execute_result"
    }
   ],
   "source": [
    "s1 = '  states'\n",
    "s2 = '......stat'\n",
    "fuzz.partial_ratio(s1, s2)\n",
    "fuzz.ratio(s1, s2)\n",
    "len(s2)"
   ]
  },
  {
   "cell_type": "code",
   "execution_count": 147,
   "metadata": {},
   "outputs": [
    {
     "name": "stdout",
     "output_type": "stream",
     "text": [
      "2 10 Match(a=2, b=6, size=4)\n",
      "2 10 Match(a=8, b=10, size=0)\n",
      "0.5\n"
     ]
    }
   ],
   "source": [
    "matcher = SequenceMatcher(None, s1, s2)\n",
    "scores = []\n",
    "for m in matcher.get_matching_blocks():\n",
    "    start = m[1]\n",
    "    end = start + len(s1)\n",
    "    if end > len(s2):\n",
    "        start -= end - len(s2)\n",
    "        end -= end - len(s2)\n",
    "    m2 = SequenceMatcher(None, s1, s2[start:end])\n",
    "    r = m2.ratio()\n",
    "    scores.append(r)\n",
    "    print(start, end, m)\n",
    "\n",
    "print(max(scores))"
   ]
  }
 ],
 "metadata": {
  "kernelspec": {
   "display_name": "Python 3",
   "language": "python",
   "name": "python3"
  },
  "language_info": {
   "codemirror_mode": {
    "name": "ipython",
    "version": 3
   },
   "file_extension": ".py",
   "mimetype": "text/x-python",
   "name": "python",
   "nbconvert_exporter": "python",
   "pygments_lexer": "ipython3",
   "version": "3.6.0"
  }
 },
 "nbformat": 4,
 "nbformat_minor": 2
}
