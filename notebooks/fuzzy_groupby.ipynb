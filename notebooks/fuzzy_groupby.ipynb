{
 "cells": [
  {
   "cell_type": "code",
   "execution_count": 20,
   "metadata": {},
   "outputs": [],
   "source": [
    "%load_ext autoreload"
   ]
  },
  {
   "cell_type": "code",
   "execution_count": 23,
   "metadata": {},
   "outputs": [],
   "source": [
    "%autoreload 1"
   ]
  },
  {
   "cell_type": "code",
   "execution_count": 25,
   "metadata": {},
   "outputs": [],
   "source": [
    "%aimport src.preprocessing"
   ]
  },
  {
   "cell_type": "code",
   "execution_count": 27,
   "metadata": {},
   "outputs": [],
   "source": [
    "from src.preprocessing import Cleaner"
   ]
  },
  {
   "cell_type": "code",
   "execution_count": 26,
   "metadata": {},
   "outputs": [],
   "source": [
    "import difflib\n",
    "from collections import Counter, Mapping\n",
    "import math\n",
    "from itertools import zip_longest\n",
    "from Levenshtein import median, median_improve\n",
    "import string\n",
    "from pathlib import Path"
   ]
  },
  {
   "cell_type": "code",
   "execution_count": 29,
   "metadata": {},
   "outputs": [
    {
     "data": {
      "text/plain": [
       "'aa    fheekjk    \\r\\n karim'"
      ]
     },
     "execution_count": 29,
     "metadata": {},
     "output_type": "execute_result"
    }
   ],
   "source": [
    "cleaner = Cleaner(lowercase=True, table='punctuation')\n",
    "cleaner('Aa.,;#fheekJK### \\r\\n karim')"
   ]
  },
  {
   "cell_type": "code",
   "execution_count": 2,
   "metadata": {},
   "outputs": [],
   "source": [
    "def find_indices(list_, element):\n",
    "    rez = []\n",
    "    offset = -1\n",
    "    while True:\n",
    "        try:\n",
    "            offset = list_.index(element, offset+1)\n",
    "            rez.append(offset)\n",
    "        except ValueError:\n",
    "            return rez"
   ]
  },
  {
   "cell_type": "code",
   "execution_count": 3,
   "metadata": {},
   "outputs": [],
   "source": [
    "def preprocess(data):\n",
    "    return [el.lower().strip(\" .\\n\\t\") for el in data]"
   ]
  },
  {
   "cell_type": "code",
   "execution_count": 4,
   "metadata": {},
   "outputs": [
    {
     "name": "stdout",
     "output_type": "stream",
     "text": [
      "Input: ['евтушенко', 'евтушенко сергей', 'Лозовая .', 'Лозовая Мария', 'лозовая', 'сергей евтушенко', 'Евтушенкоо', 'Евтушенко Сергей', 'мария лозовая', 'United states', 'United States', 'Ukraine', 'united states of americe', 'United States of America']\n",
      "\n",
      "Output: ['евтушенко', 'евтушенко', 'лозовая', 'лозовая', 'лозовая', 'евтушенко', 'евтушенко', 'евтушенко', 'лозовая', 'united states', 'united states', 'ukraine', 'united states', 'united states']\n"
     ]
    }
   ],
   "source": [
    "data = ['евтушенко', \"евтушенко сергей\", \"Лозовая .\", \"Лозовая Мария\", \"лозовая\",\n",
    "         \"сергей евтушенко\", \"Евтушенкоо\", \"Евтушенко Сергей\", \"мария лозовая\",\n",
    "        \"United states\", \"United States\", \"Ukraine\", \"united states of americe\", \n",
    "        \"United States of America\"]\n",
    "print(\"Input: {0}\\n\".format(data))\n",
    "data = preprocess(data)\n",
    "temp_vocab = data\n",
    "mapper = {}\n",
    "while temp_vocab:\n",
    "    word = temp_vocab[0]\n",
    "    temp = difflib.get_close_matches(word, temp_vocab[1:], n = 2**64)\n",
    "    group = [word, *temp]\n",
    "    most_common = Counter(group).most_common(1)[0][0]\n",
    "    mapper.update(list(zip_longest(set(temp), [word], fillvalue=word)))\n",
    "    temp_vocab = [el for el in temp_vocab if el not in group]\n",
    "    \n",
    "for i,el in enumerate(data):\n",
    "    data[i] = mapper.get(el, el)\n",
    "print(\"Output: {0}\".format(data))"
   ]
  },
  {
   "cell_type": "code",
   "execution_count": 6,
   "metadata": {},
   "outputs": [],
   "source": [
    "def mode(group):\n",
    "    return Counter(group).most_common(1)[0][0]"
   ]
  },
  {
   "cell_type": "code",
   "execution_count": 7,
   "metadata": {},
   "outputs": [],
   "source": [
    "def median_string(group):\n",
    "    return median(group)"
   ]
  },
  {
   "cell_type": "code",
   "execution_count": null,
   "metadata": {},
   "outputs": [],
   "source": []
  }
 ],
 "metadata": {
  "kernelspec": {
   "display_name": "Python 3.6",
   "language": "python",
   "name": "python3"
  },
  "language_info": {
   "codemirror_mode": {
    "name": "ipython",
    "version": 3
   },
   "file_extension": ".py",
   "mimetype": "text/x-python",
   "name": "python",
   "nbconvert_exporter": "python",
   "pygments_lexer": "ipython3",
   "version": "3.6.0"
  }
 },
 "nbformat": 4,
 "nbformat_minor": 2
}
